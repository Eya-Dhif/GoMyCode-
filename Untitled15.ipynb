{
  "nbformat": 4,
  "nbformat_minor": 0,
  "metadata": {
    "colab": {
      "provenance": [],
      "authorship_tag": "ABX9TyOHwo0hLQRmXAyhrExb3Ano",
      "include_colab_link": true
    },
    "kernelspec": {
      "name": "python3",
      "display_name": "Python 3"
    },
    "language_info": {
      "name": "python"
    }
  },
  "cells": [
    {
      "cell_type": "markdown",
      "metadata": {
        "id": "view-in-github",
        "colab_type": "text"
      },
      "source": [
        "<a href=\"https://colab.research.google.com/github/Eya-Dhif/GoMyCode-/blob/main/Untitled15.ipynb\" target=\"_parent\"><img src=\"https://colab.research.google.com/assets/colab-badge.svg\" alt=\"Open In Colab\"/></a>"
      ]
    },
    {
      "cell_type": "code",
      "execution_count": 2,
      "metadata": {
        "colab": {
          "base_uri": "https://localhost:8080/"
        },
        "id": "fHXe3lbEHldy",
        "outputId": "9763f71e-ccf4-473c-b3ea-9c2a6b5b1296"
      },
      "outputs": [
        {
          "output_type": "stream",
          "name": "stdout",
          "text": [
            "enter the lines of the file: 5\n",
            "What is Python language?                                                \n",
            "\n",
            "Python is a widely used high-level, general-purpose, interpreted, dynamic programming language.Its design philosophy emphasizes code readability, and its syntax allows programmers to express concepts in fewer lines of code than possible in \n",
            "\n",
            "languages such as C++ or Java. \n",
            "\n",
            "Python supports multiple programming paradigms, including object-oriented, imperative and functional programming or procedural styles. It features a dynamic type system and automatic memory management and has a large and comprehensive standard library.The best way we learn anything is by practice and exercise questions. We  have started this section for those (beginner to intermediate) who are familiar with Python.\n",
            "\n",
            "[]\n",
            "4\n",
            "36\n",
            "42\n",
            "100\n"
          ]
        }
      ],
      "source": [
        "#read an entire text file\n",
        "file_path=\"paython.txt\"\n",
        "f= open(\"python.txt\",'r',encoding='utf_8')\n",
        "\n",
        "#read the first n lines of a file\n",
        "n=int(input(\"enter the lines of the file: \"))\n",
        "for i in range(n):\n",
        "  print(f.readline())\n",
        "\n",
        "#read the last n lines of a file\n",
        "lines= f.readlines()\n",
        "last_lines= lines[-n:]\n",
        "print(last_lines)\n",
        "\n",
        "#returns the number of words of a given text file\n",
        "num_words=0\n",
        "with open(\"python.txt\", 'r')as f:\n",
        "  for line in f:\n",
        "    words= line.split()\n",
        "    num_words+= len(words)\n",
        "    print(num_words)\n",
        "\n"
      ]
    }
  ]
}