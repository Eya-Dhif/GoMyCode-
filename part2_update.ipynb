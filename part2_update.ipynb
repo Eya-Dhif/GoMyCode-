{
  "nbformat": 4,
  "nbformat_minor": 0,
  "metadata": {
    "colab": {
      "provenance": [],
      "authorship_tag": "ABX9TyMj94WUuSrWvye+rPYZ+WON",
      "include_colab_link": true
    },
    "kernelspec": {
      "name": "python3",
      "display_name": "Python 3"
    },
    "language_info": {
      "name": "python"
    }
  },
  "cells": [
    {
      "cell_type": "markdown",
      "metadata": {
        "id": "view-in-github",
        "colab_type": "text"
      },
      "source": [
        "<a href=\"https://colab.research.google.com/github/Eya-Dhif/GoMyCode-/blob/main/part2_update.ipynb\" target=\"_parent\"><img src=\"https://colab.research.google.com/assets/colab-badge.svg\" alt=\"Open In Colab\"/></a>"
      ]
    },
    {
      "cell_type": "code",
      "execution_count": null,
      "metadata": {
        "id": "FWtAUsQ1DApL"
      },
      "outputs": [],
      "source": [
        "import tkinter as tk\n",
        "from tkinter import messagebox\n",
        "\n",
        "window = tk.Tk()\n",
        "window.title(\"TIC-TAC-TOE\")\n",
        "window.geometry(\"300x150\")\n",
        "\n",
        "digits= [1,2,3,4,5,6,7,8,9]\n",
        "mark=''\n",
        "count=0\n",
        "panels = ['panel', 1, 2, 3, 4, 5, 6, 7, 8, 9]\n",
        "\n",
        "def win():\n",
        "    # Horizontal win\n",
        "    for i in range(1, 8, 3):\n",
        "        if panels[i] == panels[i + 1] == panels[i + 2]:\n",
        "            return True\n",
        "    # Vertical win\n",
        "    for i in range(1, 4):\n",
        "        if panels[i] == panels[i + 3] == panels[i + 6]:\n",
        "            return True\n",
        "    # Diagonal win\n",
        "    if panels[1] == panels[5] == panels[9]:\n",
        "        return True\n",
        "    if panels[3] == panels[5] == panels[7]:\n",
        "        return True\n",
        "    return False\n",
        "\n",
        "def checker(digit):\n",
        "    global count, mark, digits\n",
        "\n",
        "    if digit not in digits:\n",
        "        messagebox.showinfo(\"Invalid input. Please enter a digit from 1 to 9.\")\n",
        "        return False\n",
        "\n",
        "    if panels[digit] != digit:\n",
        "        messagebox.showinfo(\"Position already taken. Choose another position.\")\n",
        "        return False\n",
        "\n",
        "    # Remove the digit from the digits list\n",
        "    digits.remove(digit)\n",
        "\n",
        "    # Determine the current player's mark ('X' or 'O') based on the count variable (even or odd)\n",
        "    if count % 2 == 0:\n",
        "        mark = 'X'\n",
        "    else:\n",
        "        mark = 'O'\n",
        "\n",
        "    panels[digit] = mark\n",
        "    count += 1\n",
        "\n",
        "    # Update the button text with the current mark ('X' or 'O')\n",
        "    buttons[digit].config(text=mark)\n",
        "\n",
        "    # Check if the current player has won the game\n",
        "    if win() and mark == 'X':\n",
        "        messagebox.showinfo(\"Player1 wins\")\n",
        "        window.destroy()\n",
        "    elif win() and mark == 'O':\n",
        "        messagebox.showinfo(\"Player2 wins\")\n",
        "        window.destroy()\n",
        "    elif count > 8:\n",
        "        messagebox.showinfo(\"Match Tied\")\n",
        "        window.destroy()\n",
        "\n",
        "    # Repeat steps 3 to 10 for each digit from 2 to 9\n",
        "   for digit in range(2, 10):\n",
        "    checker(digit)\n",
        "\n",
        "\n"
      ]
    }
  ]
}