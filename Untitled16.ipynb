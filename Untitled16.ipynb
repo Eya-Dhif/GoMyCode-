{
  "nbformat": 4,
  "nbformat_minor": 0,
  "metadata": {
    "colab": {
      "provenance": [],
      "authorship_tag": "ABX9TyP2ax8okSyeoRnXvxOHjjek",
      "include_colab_link": true
    },
    "kernelspec": {
      "name": "python3",
      "display_name": "Python 3"
    },
    "language_info": {
      "name": "python"
    }
  },
  "cells": [
    {
      "cell_type": "markdown",
      "metadata": {
        "id": "view-in-github",
        "colab_type": "text"
      },
      "source": [
        "<a href=\"https://colab.research.google.com/github/Eya-Dhif/GoMyCode-/blob/main/Untitled16.ipynb\" target=\"_parent\"><img src=\"https://colab.research.google.com/assets/colab-badge.svg\" alt=\"Open In Colab\"/></a>"
      ]
    },
    {
      "cell_type": "code",
      "execution_count": 5,
      "metadata": {
        "id": "oNM5JsoOmjuD",
        "colab": {
          "base_uri": "https://localhost:8080/"
        },
        "outputId": "9657c9f7-ed2c-4dac-f751-b9e01558841f"
      },
      "outputs": [
        {
          "output_type": "execute_result",
          "data": {
            "text/plain": [
              "True"
            ]
          },
          "metadata": {},
          "execution_count": 5
        }
      ],
      "source": [
        "def binary_search(A, n):\n",
        "    l = 0\n",
        "    u = len(A) - 1\n",
        "\n",
        "    while l <= u:\n",
        "        mid = (l + u) // 2\n",
        "\n",
        "        if A[mid] == n:\n",
        "            return True\n",
        "        elif A[mid] < n:\n",
        "            l = mid + 1\n",
        "        else:\n",
        "            u = mid - 1\n",
        "\n",
        "    return False\n",
        "\n",
        "\n",
        "binary_search([1,2,3,5,8], 6)\n",
        "binary_search([1,2,3,5,8], 5)"
      ]
    },
    {
      "cell_type": "code",
      "source": [
        "def power(a,b):\n",
        "  if b==0:\n",
        "    return 1\n",
        "  else:\n",
        "    return a*power(a,b-1)\n",
        "\n",
        "print(power(3, 4))"
      ],
      "metadata": {
        "colab": {
          "base_uri": "https://localhost:8080/"
        },
        "id": "_ZIZFWPFucPQ",
        "outputId": "fb614b69-44b1-4f12-95c7-863f38661160"
      },
      "execution_count": 10,
      "outputs": [
        {
          "output_type": "stream",
          "name": "stdout",
          "text": [
            "81\n"
          ]
        }
      ]
    },
    {
      "cell_type": "code",
      "source": [
        "def bubbleSort(nums):\n",
        "  for i in range(len(nums)-1,0,-1):\n",
        "    for j in range(i):\n",
        "      if nums[j]> nums[j+1]:\n",
        "        temp= nums[j]\n",
        "        nums[j]= nums[j+1]\n",
        "        nums[j+1]= temp\n",
        "\n",
        "  return nums\n",
        "\n",
        "#test\n",
        "nums= [29,13,22,37,52,49,46,71,56]\n",
        "bubbleSort(nums)"
      ],
      "metadata": {
        "colab": {
          "base_uri": "https://localhost:8080/"
        },
        "id": "ryBlc4JCz-9_",
        "outputId": "89c7eb9c-81c9-4c5a-8e5b-877963116570"
      },
      "execution_count": 12,
      "outputs": [
        {
          "output_type": "execute_result",
          "data": {
            "text/plain": [
              "[13, 22, 29, 37, 46, 49, 52, 56, 71]"
            ]
          },
          "metadata": {},
          "execution_count": 12
        }
      ]
    },
    {
      "cell_type": "code",
      "source": [
        "def mergeSort(lst):\n",
        "    if len(lst) > 1:\n",
        "        mid = len(lst) // 2\n",
        "        left = lst[:mid]\n",
        "        right = lst[mid:]\n",
        "\n",
        "        # Recursion call\n",
        "        mergeSort(left)\n",
        "        mergeSort(right)\n",
        "\n",
        "        # Merge\n",
        "        i = 0  # Left list index\n",
        "        j = 0  # Right list index\n",
        "        k = 0  # Merged index\n",
        "\n",
        "        while i < len(left) and j < len(right):\n",
        "            if left[i] < right[j]:\n",
        "                lst[k] = left[i]\n",
        "                i += 1\n",
        "            else:\n",
        "                lst[k] = right[j]\n",
        "                j += 1\n",
        "            k += 1\n",
        "\n",
        "        while i < len(left):\n",
        "            lst[k] = left[i]\n",
        "            i += 1\n",
        "            k += 1\n",
        "\n",
        "        while j < len(right):\n",
        "            lst[k] = right[j]\n",
        "            j += 1\n",
        "            k += 1\n",
        "\n",
        "# Test\n",
        "lst = [29, 13, 22, 37, 52, 49, 46, 71, 56]\n",
        "mergeSort(lst)\n",
        "print(lst)\n",
        "\n",
        "\n"
      ],
      "metadata": {
        "colab": {
          "base_uri": "https://localhost:8080/"
        },
        "id": "ncE2SEFT4fms",
        "outputId": "4627494f-e42f-4dac-b48f-300d6b748521"
      },
      "execution_count": 14,
      "outputs": [
        {
          "output_type": "stream",
          "name": "stdout",
          "text": [
            "[13, 22, 29, 37, 46, 49, 52, 56, 71]\n"
          ]
        }
      ]
    },
    {
      "cell_type": "code",
      "source": [
        "def partition(array, left, right):\n",
        "    pivot = array[right]\n",
        "    i = left - 1\n",
        "    for j in range(left, right):\n",
        "        if array[j] <= pivot:\n",
        "            i = i + 1\n",
        "            array[i], array[j] = array[j], array[i]\n",
        "\n",
        "    array[i + 1], array[right] = array[right], array[i + 1]\n",
        "    return i + 1\n",
        "\n",
        "def quickSort(array, left, right):\n",
        "    if left < right:\n",
        "        pivot = partition(array, left, right)\n",
        "        quickSort(array, left, pivot - 1)\n",
        "        quickSort(array, pivot + 1, right)\n",
        "\n",
        "# Test\n",
        "data = [29, 13, 22, 37, 52, 49, 46, 71, 56]\n",
        "quickSort(data, 0, len(data) - 1)\n",
        "print(\"Sorted Data:\", data)\n",
        "\n",
        "\n",
        "\n"
      ],
      "metadata": {
        "colab": {
          "base_uri": "https://localhost:8080/"
        },
        "id": "gRvaZJWM9Yxg",
        "outputId": "9d555eb9-32cb-4427-a633-7c8380779723"
      },
      "execution_count": 20,
      "outputs": [
        {
          "output_type": "stream",
          "name": "stdout",
          "text": [
            "Sorted Data: [13, 22, 29, 37, 46, 49, 52, 56, 71]\n"
          ]
        }
      ]
    }
  ]
}