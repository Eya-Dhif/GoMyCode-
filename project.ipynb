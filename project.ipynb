{
  "nbformat": 4,
  "nbformat_minor": 0,
  "metadata": {
    "colab": {
      "provenance": [],
      "authorship_tag": "ABX9TyOvWHmEy2fftroggoEshVpw",
      "include_colab_link": true
    },
    "kernelspec": {
      "name": "python3",
      "display_name": "Python 3"
    },
    "language_info": {
      "name": "python"
    }
  },
  "cells": [
    {
      "cell_type": "markdown",
      "metadata": {
        "id": "view-in-github",
        "colab_type": "text"
      },
      "source": [
        "<a href=\"https://colab.research.google.com/github/Eya-Dhif/GoMyCode-/blob/main/project.ipynb\" target=\"_parent\"><img src=\"https://colab.research.google.com/assets/colab-badge.svg\" alt=\"Open In Colab\"/></a>"
      ]
    },
    {
      "cell_type": "code",
      "execution_count": null,
      "metadata": {
        "id": "HX6LPAWY4Ue5"
      },
      "outputs": [],
      "source": [
        "import tkinter as tk\n",
        "from tkinter import messagebox\n",
        "\n",
        "window = tk.Tk()\n",
        "window.title(\"TIC-TAC-TOE\")\n",
        "window.geometry(\"300x150\")\n",
        "\n",
        "digits= [1,2,3,4,5,6,7,8,9]\n",
        "mark=''\n",
        "count=0\n",
        "panels = ['panel', 1, 2, 3, 4, 5, 6, 7, 8, 9]"
      ]
    }
  ]
}