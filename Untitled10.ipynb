{
  "nbformat": 4,
  "nbformat_minor": 0,
  "metadata": {
    "colab": {
      "provenance": [],
      "authorship_tag": "ABX9TyPT2hdF8Gj+8BI/ASf9T6+B",
      "include_colab_link": true
    },
    "kernelspec": {
      "name": "python3",
      "display_name": "Python 3"
    },
    "language_info": {
      "name": "python"
    }
  },
  "cells": [
    {
      "cell_type": "markdown",
      "metadata": {
        "id": "view-in-github",
        "colab_type": "text"
      },
      "source": [
        "<a href=\"https://colab.research.google.com/github/Eya-Dhif/GoMyCode-/blob/main/Untitled10.ipynb\" target=\"_parent\"><img src=\"https://colab.research.google.com/assets/colab-badge.svg\" alt=\"Open In Colab\"/></a>"
      ]
    },
    {
      "cell_type": "code",
      "source": [
        "def calculator():\n",
        "  num1= float(input(\"enter the first number\"))\n",
        "  num2= float(input(\"enter the second number\"))\n",
        "  operator= input(\"enter the operator (+, -, *, /)\")\n",
        "  result= 0\n",
        "\n",
        "  if operator== \"+\":\n",
        "   result= num1 + num2\n",
        "  elif operator== \"-\":\n",
        "    result= num1 - num2\n",
        "  elif operator== \"*\":\n",
        "    result= num1 * num2\n",
        "  elif operator== \"/\":\n",
        "    if num2!=0:\n",
        "      result= num1 / num2\n",
        "    else:\n",
        "      print(\"Error: Division by 0 is impossible\")\n",
        "\n",
        "  print(\"the result is=\", result)\n",
        "\n",
        "calculator()\n"
      ],
      "metadata": {
        "colab": {
          "base_uri": "https://localhost:8080/"
        },
        "id": "YI4xreV9lLSZ",
        "outputId": "02dc4d30-4aa2-4e34-ddac-279ee651d1aa"
      },
      "execution_count": 46,
      "outputs": [
        {
          "output_type": "stream",
          "name": "stdout",
          "text": [
            "enter the first number10\n",
            "enter the second number5\n",
            "enter the operator (+, -, *, /)*\n",
            "the result is= 50.0\n"
          ]
        }
      ]
    }
  ]
}