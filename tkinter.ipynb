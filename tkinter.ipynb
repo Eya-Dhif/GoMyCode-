{
  "nbformat": 4,
  "nbformat_minor": 0,
  "metadata": {
    "colab": {
      "provenance": [],
      "authorship_tag": "ABX9TyOGYSAA/USVaZdw85DPI/80",
      "include_colab_link": true
    },
    "kernelspec": {
      "name": "python3",
      "display_name": "Python 3"
    },
    "language_info": {
      "name": "python"
    }
  },
  "cells": [
    {
      "cell_type": "markdown",
      "metadata": {
        "id": "view-in-github",
        "colab_type": "text"
      },
      "source": [
        "<a href=\"https://colab.research.google.com/github/Eya-Dhif/GoMyCode-/blob/main/tkinter.ipynb\" target=\"_parent\"><img src=\"https://colab.research.google.com/assets/colab-badge.svg\" alt=\"Open In Colab\"/></a>"
      ]
    },
    {
      "cell_type": "code",
      "execution_count": null,
      "metadata": {
        "id": "rxH_Qs3HZas2"
      },
      "outputs": [],
      "source": [
        "import tkinter as tk\n",
        "\n",
        "def fahrenheit_to_celsius():\n",
        "    # Convert Fahrenheit to Celsius\n",
        "    f = float(ent_temperature.get())\n",
        "    celsius = round((f - 32) * 5 / 9, 2)\n",
        "    lbl_result.config(text=f\"{celsius} \\N{DEGREE CELSIUS}\")\n",
        "    #label.config(text=\"Button clicked!\")\n",
        "\n",
        "# Create the main application window\n",
        "window = tk.Tk()\n",
        "window.title(\"Temperature Converter\")\n",
        "window.geometry(\"300x150\")\n",
        "window.resizable(width=False, height=False)\n",
        "\n",
        "# Create a frame\n",
        "frm_entry = tk.Frame(master=window)\n",
        "frm_entry.grid(row=0, column=0, padx=10)\n",
        "\n",
        "# Create an entry widget\n",
        "ent_temperature = tk.Entry(master=frm_entry, width=10)\n",
        "ent_temperature.grid(row=0, column=0, sticky=\"e\")\n",
        "\n",
        "# Create a label widget\n",
        "lbl_temp = tk.Label(master=frm_entry, text=\"\\N{DEGREE FAHRENHEIT}\")\n",
        "lbl_temp.grid(row=0, column=1, sticky=\"w\")\n",
        "\n",
        "# Create a button widget\n",
        "btn_convert = tk.Button(master=window, text=\"\\N{RIGHTWARDS BLACK ARROW}\", command=fahrenheit_to_celsius)\n",
        "btn_convert.grid(row=0, column=1, pady=10)\n",
        "\n",
        "# Create a label widget to display the result of the conversion in Celsius\n",
        "lbl_result = tk.Label(master=window, text=\"\", font=(\"Helvetica\", 20))\n",
        "lbl_result.grid(row=1, column=0, padx=10)\n",
        "\n",
        "# Start the Tkinter event loop\n",
        "window.mainloop()"
      ]
    }
  ]
}