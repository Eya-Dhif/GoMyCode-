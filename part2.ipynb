{
  "nbformat": 4,
  "nbformat_minor": 0,
  "metadata": {
    "colab": {
      "provenance": [],
      "authorship_tag": "ABX9TyOuMVHao7trRgkgYzRg7jr8",
      "include_colab_link": true
    },
    "kernelspec": {
      "name": "python3",
      "display_name": "Python 3"
    },
    "language_info": {
      "name": "python"
    }
  },
  "cells": [
    {
      "cell_type": "markdown",
      "metadata": {
        "id": "view-in-github",
        "colab_type": "text"
      },
      "source": [
        "<a href=\"https://colab.research.google.com/github/Eya-Dhif/GoMyCode-/blob/main/part2.ipynb\" target=\"_parent\"><img src=\"https://colab.research.google.com/assets/colab-badge.svg\" alt=\"Open In Colab\"/></a>"
      ]
    },
    {
      "cell_type": "code",
      "execution_count": null,
      "metadata": {
        "id": "HX6LPAWY4Ue5"
      },
      "outputs": [],
      "source": [
        "import tkinter as tk\n",
        "from tkinter import messagebox\n",
        "\n",
        "window = tk.Tk()\n",
        "window.title(\"TIC-TAC-TOE\")\n",
        "window.geometry(\"300x150\")\n",
        "\n",
        "digits= [1,2,3,4,5,6,7,8,9]\n",
        "mark=''\n",
        "count=0\n",
        "panels = ['panel', 1, 2, 3, 4, 5, 6, 7, 8, 9]\n",
        "\n",
        "def win():\n",
        "\n",
        "def checker(digit):\n",
        "    global count, mark, digits\n",
        "\n",
        "    count += 1\n",
        "    mark='X' if count % 2 = 0 else'O'\n",
        "\n",
        "#handle different digit values from 1 to 9\n",
        "    if digit not in digits:\n",
        "      print('the digit you entered is not valid')\n",
        "\n",
        "    if digit==1 and 1 in digits:\n",
        "      digits.remove(1)\n",
        "      button1.config(text=mark)\n",
        "    elif digit==2 and 2 in digits:\n",
        "      digits.remove(2)\n",
        "      button2.config(text=mark)\n",
        "    elif digit==3 and 3 in digits:\n",
        "      digits.remove(3)\n",
        "      button3.config(text=mark)\n",
        "    elif digit==4 and 4 in digits:\n",
        "      digits.remove(4)\n",
        "      button4.config(text=mark)\n",
        "    elif digit==5 and 5 in digits:\n",
        "      digits.remove(5)\n",
        "      button5.config(text=mark)\n",
        "    elif digit==6 and 6 in digits:\n",
        "      digits.remove(6)\n",
        "      button6.config(text=mark)\n",
        "    elif digit==7 and 7 in digits:\n",
        "      digits.remove(7)\n",
        "      button7.config(text=mark)\n",
        "    elif digit==8 and 8 in digits:\n",
        "      digits.remove(8)\n",
        "      button8.config(text=mark)\n",
        "    elif digit==9 and 9 in digits:\n",
        "      digits.remove(9)\n",
        "      button9.config(text=mark)\n",
        "    else:\n",
        "      count -= 1\n",
        "# Check if the current player has won\n",
        "   if win():\n",
        "    winner= \"player1\" if mark=='X' else \"player2\"\n",
        "    print(\"Game Over\", \"(winner) wins\")\n",
        "    window.destroy()\n",
        "  elif count > 8:\n",
        "    print(\"Game Over\", \"It's a tie\")\n",
        "    window.destroy()\n",
        "\n",
        "\n",
        "\n",
        "\n",
        "\n",
        "window.mainloop()\n",
        "\n",
        "\n",
        "\n",
        "\n"
      ]
    }
  ]
}