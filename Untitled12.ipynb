{
  "nbformat": 4,
  "nbformat_minor": 0,
  "metadata": {
    "colab": {
      "provenance": [],
      "authorship_tag": "ABX9TyPFrwC8IfVi9qAhINUGfo7r",
      "include_colab_link": true
    },
    "kernelspec": {
      "name": "python3",
      "display_name": "Python 3"
    },
    "language_info": {
      "name": "python"
    }
  },
  "cells": [
    {
      "cell_type": "markdown",
      "metadata": {
        "id": "view-in-github",
        "colab_type": "text"
      },
      "source": [
        "<a href=\"https://colab.research.google.com/github/Eya-Dhif/GoMyCode-/blob/main/Untitled12.ipynb\" target=\"_parent\"><img src=\"https://colab.research.google.com/assets/colab-badge.svg\" alt=\"Open In Colab\"/></a>"
      ]
    },
    {
      "cell_type": "code",
      "execution_count": 3,
      "metadata": {
        "id": "FXM0U1AVY2vB",
        "colab": {
          "base_uri": "https://localhost:8080/"
        },
        "outputId": "d9e43ee6-d429-4fd3-fe98-cfdd433488b8"
      },
      "outputs": [
        {
          "output_type": "stream",
          "name": "stdout",
          "text": [
            "enter the number of students2\n",
            "enter the number of subjects1\n",
            "enter the marks of each student in each subject\n",
            "Grade: F\n"
          ]
        }
      ],
      "source": [
        "import numpy as np\n",
        "num_students= int(input(\"enter the number of students\"))\n",
        "num_subjects= int(input(\"enter the number of subjects\"))\n",
        "\n",
        "marks= np.zeros((num_students, num_subjects))\n",
        "\n",
        "print(\"enter the marks of each student in each subject\")\n",
        "\n",
        "#Calculate the total marks for each student\n",
        "total_marks= np.sum(marks)\n",
        "\n",
        "#Calculate the percentage for each student\n",
        "percentage= (total_marks / (num_subjects * 100)) * 100\n",
        "\n",
        "#Calculate the grade for each student\n",
        "grade= np.array(num_students)\n",
        "if percentage>= 90:\n",
        "  print(\"Grade: A+\")\n",
        "elif percentage>= 80 :\n",
        "  print(\"Grade: A\")\n",
        "elif percentage>= 70 :\n",
        "  print(\"Grade: B+\")\n",
        "elif percentage>= 60 :\n",
        "  print(\"Grade: B\")\n",
        "elif percentage>= 50 :\n",
        "  print(\"Grade: C\")\n",
        "else:\n",
        "  print(\"Grade: F\")\n",
        "\n"
      ]
    }
  ]
}