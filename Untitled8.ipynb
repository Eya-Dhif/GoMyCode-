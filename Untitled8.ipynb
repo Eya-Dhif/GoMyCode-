{
  "nbformat": 4,
  "nbformat_minor": 0,
  "metadata": {
    "colab": {
      "provenance": [],
      "authorship_tag": "ABX9TyNB/ijB46K8wZGukxNpGAh2",
      "include_colab_link": true
    },
    "kernelspec": {
      "name": "python3",
      "display_name": "Python 3"
    },
    "language_info": {
      "name": "python"
    }
  },
  "cells": [
    {
      "cell_type": "markdown",
      "metadata": {
        "id": "view-in-github",
        "colab_type": "text"
      },
      "source": [
        "<a href=\"https://colab.research.google.com/github/Eya-Dhif/GoMyCode-/blob/main/Untitled8.ipynb\" target=\"_parent\"><img src=\"https://colab.research.google.com/assets/colab-badge.svg\" alt=\"Open In Colab\"/></a>"
      ]
    },
    {
      "cell_type": "code",
      "execution_count": null,
      "metadata": {
        "colab": {
          "base_uri": "https://localhost:8080/"
        },
        "id": "rnHBrZVJJSzL",
        "outputId": "8137ce32-f83d-4779-8059-81131d11882c"
      },
      "outputs": [
        {
          "output_type": "stream",
          "name": "stdout",
          "text": [
            "Welcome to Python world! Let's start coding\n"
          ]
        }
      ],
      "source": [
        "print (\"Welcome to Python world! Let's start coding\")"
      ]
    },
    {
      "cell_type": "code",
      "source": [
        "def multiplyList(list):\n",
        "  result=1\n",
        "  for i in list:\n",
        "    result= result*i\n",
        "  return result\n",
        "\n",
        "list= [2,3,6]\n",
        "print(multiplyList ([2,3,6]))"
      ],
      "metadata": {
        "colab": {
          "base_uri": "https://localhost:8080/"
        },
        "id": "jaxHKJcUdBzd",
        "outputId": "553d5e6f-7c0d-42bc-8fc6-f875ba713eb4"
      },
      "execution_count": 8,
      "outputs": [
        {
          "output_type": "stream",
          "name": "stdout",
          "text": [
            "36\n"
          ]
        }
      ]
    },
    {
      "cell_type": "code",
      "source": [
        "def last(n):\n",
        "  return n[-1]\n",
        "def sort_list_last(tuples):\n",
        "  return sorted(tuples, key=last)\n",
        "\n",
        "print(sort_list_last([(2, 5), (1, 2), (4, 4), (2, 3), (2, 1)]))"
      ],
      "metadata": {
        "colab": {
          "base_uri": "https://localhost:8080/"
        },
        "id": "Kkb4gojSr5Na",
        "outputId": "60f69068-2d3a-44c3-ea61-3f4ac6fe23d4"
      },
      "execution_count": 27,
      "outputs": [
        {
          "output_type": "stream",
          "name": "stdout",
          "text": [
            "[(2, 1), (1, 2), (2, 3), (4, 4), (2, 5)]\n"
          ]
        }
      ]
    },
    {
      "cell_type": "code",
      "source": [
        "d1 = {'a': 100, 'b': 200, 'c':300}\n",
        "\n",
        "d2 = {'a': 300, 'b': 200, 'd':400}\n",
        "for key in d2:\n",
        "  if key in d1:\n",
        "    d2[key]= d2[key]+ d1[key]\n",
        "  else:\n",
        "    print(d1)\n",
        "\n",
        "  print(d2)\n"
      ],
      "metadata": {
        "colab": {
          "base_uri": "https://localhost:8080/"
        },
        "id": "wYuSWSjKhisr",
        "outputId": "6ed586c7-22cd-4bf6-dc8c-1fcc846047df"
      },
      "execution_count": 25,
      "outputs": [
        {
          "output_type": "stream",
          "name": "stdout",
          "text": [
            "{'a': 400, 'b': 200, 'd': 400}\n",
            "{'a': 400, 'b': 400, 'd': 400}\n",
            "{'a': 100, 'b': 200, 'c': 300}\n",
            "{'a': 400, 'b': 400, 'd': 400}\n"
          ]
        }
      ]
    },
    {
      "cell_type": "code",
      "source": [
        "n= int(input(\"enter a number\"))\n",
        "d={}\n",
        "for i in range(1,n+1):\n",
        "  d[i]= i*i\n",
        "\n",
        "print(d)"
      ],
      "metadata": {
        "colab": {
          "base_uri": "https://localhost:8080/"
        },
        "id": "tUel9vc4mzaw",
        "outputId": "08fdf346-a54c-4faf-bbaa-c2dd5a3705da"
      },
      "execution_count": 34,
      "outputs": [
        {
          "output_type": "stream",
          "name": "stdout",
          "text": [
            "enter a number8\n",
            "{1: 1, 2: 4, 3: 9, 4: 16, 5: 25, 6: 36, 7: 49, 8: 64}\n"
          ]
        }
      ]
    },
    {
      "cell_type": "code",
      "source": [
        "print(\"create a new set\")\n",
        "s= set()\n",
        "print(s)\n",
        "print(\"create a non empty set\")\n",
        "a= {0, 1, 2, 3, 4}\n",
        "print(a)"
      ],
      "metadata": {
        "colab": {
          "base_uri": "https://localhost:8080/"
        },
        "id": "rCBkVp1vzWML",
        "outputId": "2d0b7164-5be3-46d4-a2f4-efd79fd8ee91"
      },
      "execution_count": 35,
      "outputs": [
        {
          "output_type": "stream",
          "name": "stdout",
          "text": [
            "create a new set\n",
            "set()\n",
            "create a non empty set\n",
            "{0, 1, 2, 3, 4}\n"
          ]
        }
      ]
    },
    {
      "cell_type": "code",
      "source": [
        "s= set()\n",
        "print(s)\n",
        "print(\"add new element\")\n",
        "s.add(\"access\")\n",
        "print(s)\n",
        "s.pop()\n",
        "print(s)"
      ],
      "metadata": {
        "colab": {
          "base_uri": "https://localhost:8080/"
        },
        "id": "Cj19xHmv2RGC",
        "outputId": "29b7ce86-fac1-4806-969f-413670d32412"
      },
      "execution_count": 37,
      "outputs": [
        {
          "output_type": "stream",
          "name": "stdout",
          "text": [
            "set()\n",
            "add new element\n",
            "{'access'}\n",
            "set()\n"
          ]
        }
      ]
    }
  ]
}