{
  "nbformat": 4,
  "nbformat_minor": 0,
  "metadata": {
    "colab": {
      "provenance": [],
      "authorship_tag": "ABX9TyNgJ6HOznymdAaiZA8TGABi",
      "include_colab_link": true
    },
    "kernelspec": {
      "name": "python3",
      "display_name": "Python 3"
    },
    "language_info": {
      "name": "python"
    }
  },
  "cells": [
    {
      "cell_type": "markdown",
      "metadata": {
        "id": "view-in-github",
        "colab_type": "text"
      },
      "source": [
        "<a href=\"https://colab.research.google.com/github/Eya-Dhif/GoMyCode-/blob/main/Untitled11.ipynb\" target=\"_parent\"><img src=\"https://colab.research.google.com/assets/colab-badge.svg\" alt=\"Open In Colab\"/></a>"
      ]
    },
    {
      "cell_type": "code",
      "execution_count": 13,
      "metadata": {
        "id": "UOkBnR7xAeax",
        "colab": {
          "base_uri": "https://localhost:8080/"
        },
        "outputId": "7fc1998c-f799-4f2c-83c4-30eb4ce78300"
      },
      "outputs": [
        {
          "output_type": "stream",
          "name": "stdout",
          "text": [
            "<__main__.Point3D object at 0x7c54551f7c10>\n"
          ]
        }
      ],
      "source": [
        "class Point3D:\n",
        "\n",
        " def __init__(self, x, y, z):\n",
        "  self.x= x\n",
        "  self.y= y\n",
        "  self.z= z\n",
        "\n",
        "my_point= Point3D(1, 2, 3)\n",
        "\n",
        "print (my_point)\n",
        "\n",
        "\n"
      ]
    },
    {
      "cell_type": "code",
      "source": [
        "class Rectangle:\n",
        "\n",
        "  def __init__(self, length, width):\n",
        "   self.length= length\n",
        "   self.width= width\n",
        "\n",
        "  def area(self):\n",
        "    return self.length * self.width\n",
        "\n",
        "  def perimeter(self):\n",
        "    return 2* (self.length + self.width)\n",
        "\n",
        "my_rectangle= Rectangle(3,4)\n",
        ""
      ],
      "metadata": {
        "id": "nOO4XA4b4GTh"
      },
      "execution_count": 15,
      "outputs": []
    },
    {
      "cell_type": "code",
      "source": [
        "class Circle:\n",
        "\n",
        "  def __init__(self, O, r):\n",
        "   self.center= O\n",
        "   self.radius= r\n",
        "\n",
        "   def area(self):\n",
        "     return self.radius**2*3.14\n",
        "\n",
        "  def perimeter(self):\n",
        "     return 2*self.radius*3.14\n",
        "\n",
        "  def  distance(centre_x, centre_y, point_x, point_y):\n",
        "    return sqrt((point_x - center_x) ** 2 + (point_y - center_y) ** 2)\n",
        "\n",
        "  def is_inside(self, point_x, point_y):\n",
        "    if distance<= self.radius:\n",
        "       return  True\n",
        "    else:\n",
        "        return False\n",
        ""
      ],
      "metadata": {
        "id": "_KMySJ307wOQ"
      },
      "execution_count": 22,
      "outputs": []
    },
    {
      "cell_type": "code",
      "source": [
        "class Bank:\n",
        "  def __init__(self,balance):\n",
        "    self.balance= balance\n",
        "\n",
        "  def deposit(self, amount):\n",
        "    self.balance+= amount\n",
        "\n",
        "  def withdraw(self, amount):\n",
        "    if amount<= self.balance:\n",
        "      self.balance-= amount\n",
        "    else:\n",
        "      print(\"Insufficient\")"
      ],
      "metadata": {
        "id": "AmGwem66DBJj"
      },
      "execution_count": 25,
      "outputs": []
    }
  ]
}